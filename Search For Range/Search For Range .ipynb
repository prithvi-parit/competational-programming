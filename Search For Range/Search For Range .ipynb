{
 "cells": [
  {
   "cell_type": "code",
   "execution_count": 114,
   "metadata": {},
   "outputs": [],
   "source": [
    "import math"
   ]
  },
  {
   "cell_type": "code",
   "execution_count": 115,
   "metadata": {},
   "outputs": [],
   "source": [
    "import unittest"
   ]
  },
  {
   "cell_type": "code",
   "execution_count": 116,
   "metadata": {},
   "outputs": [],
   "source": [
    "\n",
    "def search_range(arr_value,target):\n",
    "    values=[]\n",
    "    start=0\n",
    "    end=len(arr_value)-1\n",
    "    middle=int((start+end)/2)\n",
    "    while  start<=end:\n",
    "        if arr_value[middle]<target:\n",
    "            start=middle+1\n",
    "            middle=int((start+end)/2)\n",
    "        elif arr_value[middle]>target:\n",
    "            end=middle-1\n",
    "            middle=int((start+end)/2)\n",
    "        elif arr_value[middle]==target and start!=end:\n",
    "            end=middle\n",
    "            middle=int((start+end)/2)\n",
    "        elif start==end:\n",
    "            values.append(start)\n",
    "            break\n",
    "        else:\n",
    "            pass\n",
    "    start=0\n",
    "    end=len(arr_value)-1\n",
    "    middle=int((start+end)/2)\n",
    "        \n",
    "    while  start<=end:\n",
    "        if arr_value[middle]<target:\n",
    "            start=middle+1\n",
    "            middle=int((start+end)/2)\n",
    "        elif arr_value[middle]>target:\n",
    "            end=middle-1\n",
    "            middle=int((start+end)/2)\n",
    "        elif arr_value[middle]==target and start!=end:\n",
    "            start=middle\n",
    "            middle=int(math.ceil((start+end)/2))\n",
    "        elif start==end:\n",
    "            values.append(start)\n",
    "            break\n",
    "        else:\n",
    "            pass\n",
    "        \n",
    "    return values\n",
    "        \n",
    "    \n",
    "            \n",
    "        \n",
    "  "
   ]
  },
  {
   "cell_type": "code",
   "execution_count": 117,
   "metadata": {},
   "outputs": [],
   "source": [
    "class my_binary(unittest.TestCase):\n",
    "    def test_range(self,arr,target,answer):\n",
    "        self.assertEqual(search_range(arr,target),answer,msg=\"you will defentely successed\")"
   ]
  },
  {
   "cell_type": "code",
   "execution_count": 118,
   "metadata": {},
   "outputs": [],
   "source": [
    "test1=my_binary()"
   ]
  },
  {
   "cell_type": "code",
   "execution_count": 119,
   "metadata": {},
   "outputs": [],
   "source": [
    "test1.test_range([ 0 ,1,21,33,45,45,45,45,45,45,61,71,73], 45,[4, 9])"
   ]
  },
  {
   "cell_type": "code",
   "execution_count": 120,
   "metadata": {},
   "outputs": [],
   "source": [
    "test2=my_binary()"
   ]
  },
  {
   "cell_type": "code",
   "execution_count": 121,
   "metadata": {},
   "outputs": [],
   "source": [
    "test2.test_range([ 1,2,3,4,5,6,6,6,6,6,6], 6,[5,10])"
   ]
  },
  {
   "cell_type": "code",
   "execution_count": 122,
   "metadata": {},
   "outputs": [],
   "source": [
    "test3=my_binary()"
   ]
  },
  {
   "cell_type": "code",
   "execution_count": 123,
   "metadata": {},
   "outputs": [],
   "source": [
    "test3.test_range([10,23,34,47,55,63,78,78,78,78,78,78,78,88,93,108], 78,[6,12])"
   ]
  },
  {
   "cell_type": "code",
   "execution_count": null,
   "metadata": {},
   "outputs": [],
   "source": []
  }
 ],
 "metadata": {
  "kernelspec": {
   "display_name": "Python 3",
   "language": "python",
   "name": "python3"
  },
  "language_info": {
   "codemirror_mode": {
    "name": "ipython",
    "version": 3
   },
   "file_extension": ".py",
   "mimetype": "text/x-python",
   "name": "python",
   "nbconvert_exporter": "python",
   "pygments_lexer": "ipython3",
   "version": "3.8.3"
  }
 },
 "nbformat": 4,
 "nbformat_minor": 4
}
