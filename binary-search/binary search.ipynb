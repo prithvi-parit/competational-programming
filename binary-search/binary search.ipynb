{
 "cells": [
  {
   "cell_type": "code",
   "execution_count": 16,
   "metadata": {},
   "outputs": [],
   "source": [
    "import unittest"
   ]
  },
  {
   "cell_type": "code",
   "execution_count": 52,
   "metadata": {},
   "outputs": [],
   "source": [
    "def binary(arr_value,target):\n",
    "    start=0\n",
    "    end=len(arr_value)-1\n",
    "    middle=int((start+end)/2)\n",
    "    while arr_value[middle]!=target and start<=end:\n",
    "        if arr_value[middle]<target:\n",
    "            start=middle+1\n",
    "            middle=int((start+end)/2)\n",
    "        if arr_value[middle]>target:\n",
    "            end=middle-1\n",
    "            middle=int((start+end)/2)\n",
    "        \n",
    "    if arr_value[middle]==target:\n",
    "        return middle\n",
    "    else:\n",
    "        return -1"
   ]
  },
  {
   "cell_type": "code",
   "execution_count": 53,
   "metadata": {},
   "outputs": [
    {
     "data": {
      "text/plain": [
       "-1"
      ]
     },
     "execution_count": 53,
     "metadata": {},
     "output_type": "execute_result"
    }
   ],
   "source": [
    "binary([ 0, 1, 21, 33, 45,45,61,71, 72, 73 ],38)"
   ]
  },
  {
   "cell_type": "code",
   "execution_count": 54,
   "metadata": {},
   "outputs": [],
   "source": [
    "class my_binary(unittest.TestCase):\n",
    "    def test_binary(self,arr,target,answer):\n",
    "        self.assertEqual(binary(arr,target),answer,msg=\"you will defentely successed\")"
   ]
  },
  {
   "cell_type": "code",
   "execution_count": 55,
   "metadata": {},
   "outputs": [],
   "source": [
    "test1=my_binary()"
   ]
  },
  {
   "cell_type": "code",
   "execution_count": 56,
   "metadata": {},
   "outputs": [],
   "source": [
    "test1.test_binary([ 0, 1, 21, 33, 45,45,61,71, 72, 73 ],33,3)"
   ]
  },
  {
   "cell_type": "code",
   "execution_count": 57,
   "metadata": {},
   "outputs": [],
   "source": [
    "test2=my_binary()"
   ]
  },
  {
   "cell_type": "code",
   "execution_count": 58,
   "metadata": {},
   "outputs": [],
   "source": [
    "test2.test_binary([ 0, 1, 21, 33, 45,45,61,71, 72, 73 ],38,-1)"
   ]
  },
  {
   "cell_type": "code",
   "execution_count": null,
   "metadata": {},
   "outputs": [],
   "source": []
  }
 ],
 "metadata": {
  "kernelspec": {
   "display_name": "Python 3",
   "language": "python",
   "name": "python3"
  },
  "language_info": {
   "codemirror_mode": {
    "name": "ipython",
    "version": 3
   },
   "file_extension": ".py",
   "mimetype": "text/x-python",
   "name": "python",
   "nbconvert_exporter": "python",
   "pygments_lexer": "ipython3",
   "version": "3.8.3"
  }
 },
 "nbformat": 4,
 "nbformat_minor": 4
}
